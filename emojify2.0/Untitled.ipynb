{
 "cells": [
  {
   "cell_type": "markdown",
   "metadata": {},
   "source": [
    "deep learning model to lassify facial expression from images\n"
   ]
  },
  {
   "cell_type": "code",
   "execution_count": 2,
   "metadata": {},
   "outputs": [
    {
     "name": "stdout",
     "output_type": "stream",
     "text": [
      "Collecting numpy\n",
      "  Downloading numpy-1.19.1-cp38-cp38-win32.whl (10.9 MB)\n",
      "Installing collected packages: numpy\n",
      "Successfully installed numpy-1.19.1\n",
      "Note: you may need to restart the kernel to use updated packages.\n"
     ]
    },
    {
     "name": "stderr",
     "output_type": "stream",
     "text": [
      "The system cannot find the path specified.\n"
     ]
    }
   ],
   "source": [
    "pip install numpy"
   ]
  },
  {
   "cell_type": "code",
   "execution_count": 1,
   "metadata": {},
   "outputs": [
    {
     "name": "stderr",
     "output_type": "stream",
     "text": [
      "Using TensorFlow backend.\n"
     ]
    }
   ],
   "source": [
    "import numpy as np\n",
    "import cv2\n",
    "from keras.models import Sequential\n",
    "from keras.layers import Dense, Dropout, Flatten\n",
    "from keras.layers import Conv2D\n",
    "from keras.optimizers import Adam\n",
    "from keras.layers import MaxPooling2D\n",
    "\n",
    "from keras.preprocessing.image import ImageDataGenerator\n"
   ]
  },
  {
   "cell_type": "code",
   "execution_count": 14,
   "metadata": {},
   "outputs": [
    {
     "name": "stdout",
     "output_type": "stream",
     "text": [
      "Found 28709 images belonging to 7 classes.\n",
      "Found 7178 images belonging to 7 classes.\n"
     ]
    }
   ],
   "source": [
    "train_dir = 'data/train'\n",
    "test_dir = 'data/test'\n",
    "train_data_gen = ImageDataGenerator(rescale = 1/.255)\n",
    "test_data_gen = ImageDataGenerator(rescale = 1.255)\n",
    "\n",
    "\n",
    "\n",
    "train_generator =train_data_gen.flow_from_directory(\n",
    "                            train_dir,\n",
    "                            target_size =(48,48),\n",
    "                            batch_size =256,\n",
    "                            color_mode = \"grayscale\",\n",
    "                            class_mode ='categorical')\n",
    "validation_generator= test_data_gen.flow_from_directory(\n",
    "                            test_dir,\n",
    "                            target_size = (48,48),\n",
    "                            batch_size = 256,\n",
    "                            color_mode = \"grayscale\",\n",
    "                            class_mode= 'categorical')"
   ]
  },
  {
   "cell_type": "code",
   "execution_count": 15,
   "metadata": {},
   "outputs": [],
   "source": [
    "#building the architecture\n",
    "\n",
    "emotion_model = Sequential()\n",
    "emotion_model.add(Conv2D(32,kernel_size=(3,3),activation='relu', input_shape = (48,48,1)))\n",
    "emotion_model.add(Conv2D(64, kernel_size=(3,3), activation='relu'))\n",
    "emotion_model.add(MaxPooling2D(pool_size = (2,2)))\n",
    "\n",
    "emotion_model.add(Dropout(0.25))\n",
    "emotion_model.add(Conv2D(128, kernel_size = (3,3), activation='relu'))\n",
    "emotion_model.add(MaxPooling2D(pool_size = (2,2)))\n",
    "emotion_model.add(Conv2D(128, kernel_size = (3,3), activation='relu'))\n",
    "emotion_model.add(MaxPooling2D(pool_size = (2,2)))\n",
    "\n",
    "emotion_model.add(Dropout(0.25))\n",
    "emotion_model.add(Flatten())\n",
    "emotion_model.add(Dense(1024, activation='relu'))\n",
    "\n",
    "emotion_model.add(Dropout(0.25))\n",
    "emotion_model.add(Dense(7, activation='softmax'))\n",
    "\n",
    "\n"
   ]
  },
  {
   "cell_type": "code",
   "execution_count": null,
   "metadata": {},
   "outputs": [
    {
     "name": "stdout",
     "output_type": "stream",
     "text": [
      "Epoch 1/50\n",
      " 94/112 [========================>.....] - ETA: 9s - loss: 5.0053 - accuracy: 0.1770 "
     ]
    }
   ],
   "source": [
    "emotion_model.compile(loss='categorical_crossentropy',optimizer=Adam(lr=0.0001, decay=1e-6),metrics=['accuracy'])\n",
    "emotion_model_info = emotion_model.fit_generator(\n",
    "        train_generator,\n",
    "        steps_per_epoch=28709 // 256,\n",
    "        epochs=50,\n",
    "        validation_data=validation_generator,\n",
    "        \n",
    "                        validation_steps = 7178//256)\n",
    "                      "
   ]
  },
  {
   "cell_type": "code",
   "execution_count": 5,
   "metadata": {},
   "outputs": [],
   "source": [
    "#saving the weights\n",
    "emotion_model.save_weights('model.h5')"
   ]
  },
  {
   "cell_type": "code",
   "execution_count": null,
   "metadata": {},
   "outputs": [],
   "source": [
    "cv2.ocl.setUseOpenCL(False)\n",
    "emotion_dict = {0:'Angry', 1:'Disgusted', 2:'Fearful', 3:'Happy', 4:'Neutral', 5:\n",
    "                'Sad', 6:'Surprised'}\n",
    "\n",
    "cap = cv2.VideoCapture(0)\n",
    "while True:\n",
    "    ret, frame = cap.read()\n",
    "    if not ret:\n",
    "        break\n",
    "    bind = cv2.CascadeClassifier(r'C:\\Users\\shaag\\Anaconda3\\Lib\\site-packages\\cv2\\data\\haarcascade_frontalface_default.xml')\n",
    "    gray_frame = cv2.cvtColor(frame, cv2.COLOR_BGR2GRAY)\n",
    "    \n",
    "    num_faces= bind.detectMultiScale(gray_frame, scaleFactor= 1.3, minNeighbors =5)\n",
    "    \n",
    "    for x, y, w, h in num_faces:\n",
    "        cv2.rectangle(frame,(x, y-50), (x+w, y+h+10), (255,0,0),2)\n",
    "        roi_gray_frame = gray_frame[y:y + h, x:x + w]\n",
    "        cropped_img = np.expand_dims(np.expand_dims(cv2.resize(roi_gray_frame,(48,48)),-1),0)\n",
    "        emotion_prediction = emotion_model.predict(cropped_img)\n",
    "        maxindex=int(np.argmax(emotion_prediction))\n",
    "        cv2.putText(frame, emotion_dict[maxindex], (x+20, y-60), cv2.FONT_HERSHEY_SIMPLEX, 1,(255,255,255), 2, cv2.LINE_AA)\n",
    "        \n",
    "    cv2.imshow('Video', cv2.resize(frame, (1200,860), interpolation = cv2.INTER_CUBIC))\n",
    "    if cv2.waitKey(1) &  0xFF ==ord('q'):\n",
    "        cap.release()\n",
    "        cv2.destroyAllWindows()\n",
    "        break\n",
    "        "
   ]
  },
  {
   "cell_type": "code",
   "execution_count": 5,
   "metadata": {},
   "outputs": [
    {
     "name": "stderr",
     "output_type": "stream",
     "text": [
      "Exception in Tkinter callback\n",
      "Traceback (most recent call last):\n",
      "  File \"C:\\ProgramData\\Anaconda3\\envs\\tfgpu\\lib\\tkinter\\__init__.py\", line 1705, in __call__\n",
      "    return self.func(*args)\n",
      "  File \"C:\\ProgramData\\Anaconda3\\envs\\tfgpu\\lib\\tkinter\\__init__.py\", line 749, in callit\n",
      "    func(*args)\n",
      "  File \"<ipython-input-5-c7ff12c00a87>\", line 52, in show_vid\n",
      "    cap1 = cv2.VideoCapture(0)\n",
      "KeyboardInterrupt\n"
     ]
    }
   ],
   "source": [
    "#code fot GUI and Mapping with emojis\n",
    "import tkinter as tk\n",
    "from tkinter import *\n",
    "from PIL import Image, ImageTk\n",
    "import os\n",
    "import cv2\n",
    "import numpy as np\n",
    "from keras.models import Sequential\n",
    "from keras.layers import Dense, Dropout, Flatten\n",
    "from keras.layers import Conv2D\n",
    "from keras.optimizers import Adam\n",
    "from keras.layers import MaxPooling2D\n",
    "global lmain\n",
    "from keras.preprocessing.image import ImageDataGenerator\n",
    "\n",
    "emotion_model = Sequential()\n",
    "emotion_model.add(Conv2D(32,kernel_size=(3,3),activation='relu', input_shape = (48,48,1)))\n",
    "emotion_model.add(Conv2D(64, kernel_size=(3,3), activation='relu'))\n",
    "emotion_model.add(MaxPooling2D(pool_size = (2,2)))\n",
    "\n",
    "emotion_model.add(Dropout(0.25))\n",
    "emotion_model.add(Conv2D(128, kernel_size = (3,3), activation='relu'))\n",
    "emotion_model.add(MaxPooling2D(pool_size = (2,2)))\n",
    "emotion_model.add(Conv2D(128, kernel_size = (3,3), activation='relu'))\n",
    "emotion_model.add(MaxPooling2D(pool_size = (2,2)))\n",
    "\n",
    "emotion_model.add(Dropout(0.25))\n",
    "emotion_model.add(Flatten())\n",
    "emotion_model.add(Dense(1024, activation='relu'))\n",
    "\n",
    "emotion_model.add(Dropout(0.25))\n",
    "emotion_model.add(Dense(7, activation='softmax'))\n",
    "emotion_model.load_weights('model.h5')\n",
    "\n",
    "\n",
    "cv2.ocl.setUseOpenCL(False)\n",
    "\n",
    "\n",
    "emotion_dict = {0: \"Angry\", 1: \"Disgusted\", 2: \"Fearful\", 3: \"Happy\", 4: \"Neutral\", 5: \"Sad\", 6: \"Surprised\"}\n",
    "\n",
    "\n",
    "\n",
    "emoji_dist={0:\".\\emojis\\\\angry.png\",1:\".\\emojis\\\\disgusted.png\",2:\".\\emojis\\\\fearful.png\",3:\".\\emojis\\\\happy.png\",4:\".\\emojis\\\\neutral.png\",5:\".\\emojis\\\\sad.png\",6:\".\\emojis\\\\surprised.png\"}\n",
    "\n",
    "\n",
    "global last_frame1\n",
    "last_frame1=  np.zeros((480,640,3), dtype = np.uint8)\n",
    "global  cap1\n",
    "show_text=[0]\n",
    "def show_vid():\n",
    "    \n",
    "    cap1 = cv2.VideoCapture(0)\n",
    "    if not cap1.isOpened():\n",
    "        print(\"Can't open the camera\")\n",
    "    flag1, frame1 = cap1.read()\n",
    "    frame1= cv2.resize(frame1, (600,500))\n",
    "    \n",
    "    \n",
    "    bind = cv2.CascadeClassifier(r'C:\\ProgramData\\Anaconda3\\envs\\tfgpu\\Lib\\site-packages\\cv2\\data\\haarcascade_frontalface_default.xml')\n",
    "    gray_frame = cv2.cvtColor(frame1, cv2.COLOR_BGR2GRAY)\n",
    "    num_faces= bind.detectMultiScale(gray_frame, scaleFactor = 1.3, minNeighbors= 5)\n",
    "    \n",
    "    \n",
    "    for (x, y , w, h) in num_faces:\n",
    "        cv2.rectangle(frame1, (x, y -50), (x+w, y+h+10), (255,0,0),2)\n",
    "        \n",
    "        roi_gray_frame = gray_frame[y:y +h, x:x+w]\n",
    "        \n",
    "        cropped_img =np.expand_dims(np.expand_dims(cv2.resize(roi_gray_frame, (48,48)), -1), 0)\n",
    "        prediction = emotion_model.predict(cropped_img)\n",
    "        maxindex=int(np.argmax(prediction))\n",
    "        \n",
    "        cv2.putText(frame1, emotion_dict[maxindex], (x+20, y-60),\n",
    "                   cv2.FONT_HERSHEY_SIMPLEX, 1, (255,255,255),2, cv2.LINE_AA )\n",
    "        show_text[0] = maxindex\n",
    "    if flag1 is None:\n",
    "        print(\"Major Error\")\n",
    "    elif flag1:\n",
    "        global last_frame1 \n",
    "        last_frame1= frame1.copy()\n",
    "        pic = cv2.cvtColor(last_frame1, cv2.COLOR_BGR2RGB)\n",
    "        img = Image.fromarray(pic)\n",
    "        imgtk = ImageTk.PhotoImage(image = img)\n",
    "        lmain.imgtk= imgtk\n",
    "        lmain.configure(image = imgtk)\n",
    "        lmain.after(10,show_vid)\n",
    "    if cv2.waitKey(1) &  0xFF==ord('q'):\n",
    "        exit()\n",
    "def show_vid2():\n",
    "    frame2= cv2.imread(emoji_dist[show_text[0]])\n",
    "    pic2= cv2.cvtColor(frame2, cv2.COLOR_BGR2RGB)\n",
    "    img2 = Image.fromarray(frame2)\n",
    "    imgtk2= ImageTk.PhotoImage(image = img2)\n",
    "    lmain2.imgtk2= imgtk2\n",
    "    lmain3.configure(text= emotion_dict[show_text[0]], font= \n",
    "                     ('arial', 45, 'bold'))\n",
    "    lmain2.configure(image= imgtk2)\n",
    "    lmain2.after(10,show_vid2)\n",
    "    \n",
    "if __name__ =='__main__':\n",
    "    root = tk.Tk()\n",
    "    \n",
    "    \n",
    "    heading2 = Label(root, text = \"Photo to Emoji\", pady = 20, font= ('arial', 20 , 'bold'), bg = 'brown')\n",
    "    heading2.pack()\n",
    "    lmain= tk.Label(master= root, padx= 50, bd = 10)\n",
    "    lmain2 = tk.Label(master= root, bd =10)\n",
    "    lmain3=tk.Label(master= root,bd = 10, fg = '#CDCDCD', bg = 'brown')\n",
    "    \n",
    "    lmain.pack(side= LEFT)\n",
    "    \n",
    "    lmain.place(x = 50, y= 250)\n",
    "    lmain3.pack()\n",
    "    lmain3.place(x = 960, y= 250)\n",
    "    lmain2.pack(side= RIGHT)\n",
    "    lmain2.place(x  =900, y = 350)\n",
    "    \n",
    "    root.title('Photo to Emoji')\n",
    "    root.geometry(\"1400x900+100+10\")\n",
    "    root['bg'] = 'black'\n",
    "    exitbutton= Button(root, text= 'Quit', fg=  'red', command = root.destroy, font =('arial', 25, 'bold')).pack(side=BOTTOM)\n",
    "    show_vid()\n",
    "    show_vid2()\n",
    "    root.mainloop()\n",
    "    \n",
    "\n",
    "\n"
   ]
  },
  {
   "cell_type": "code",
   "execution_count": null,
   "metadata": {},
   "outputs": [],
   "source": []
  }
 ],
 "metadata": {
  "kernelspec": {
   "display_name": "tfgpu",
   "language": "python",
   "name": "tfgpu"
  },
  "language_info": {
   "codemirror_mode": {
    "name": "ipython",
    "version": 3
   },
   "file_extension": ".py",
   "mimetype": "text/x-python",
   "name": "python",
   "nbconvert_exporter": "python",
   "pygments_lexer": "ipython3",
   "version": "3.7.7"
  }
 },
 "nbformat": 4,
 "nbformat_minor": 4
}
