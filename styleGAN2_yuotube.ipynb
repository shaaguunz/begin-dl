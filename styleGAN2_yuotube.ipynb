{
  "nbformat": 4,
  "nbformat_minor": 0,
  "metadata": {
    "colab": {
      "name": "styleGAN2 yuotube.ipynb",
      "provenance": [],
      "authorship_tag": "ABX9TyOJi23mchkLjTGzbWUjUp6T",
      "include_colab_link": true
    },
    "kernelspec": {
      "name": "python3",
      "display_name": "Python 3"
    },
    "accelerator": "GPU"
  },
  "cells": [
    {
      "cell_type": "markdown",
      "metadata": {
        "id": "view-in-github",
        "colab_type": "text"
      },
      "source": [
        "<a href=\"https://colab.research.google.com/github/shaaguunz/begin-ml/blob/master/styleGAN2_yuotube.ipynb\" target=\"_parent\"><img src=\"https://colab.research.google.com/assets/colab-badge.svg\" alt=\"Open In Colab\"/></a>"
      ]
    },
    {
      "cell_type": "code",
      "metadata": {
        "id": "kfZ6dDyG26_A",
        "outputId": "793cddaa-e4c9-4196-dcbd-c6a32f70ec69",
        "colab": {
          "base_uri": "https://localhost:8080/",
          "height": 51
        }
      },
      "source": [
        "%tensorflow_version 1.x\n",
        "from google.colab import drive\n",
        "drive.mount('/content/drive',force_remount= True)"
      ],
      "execution_count": 1,
      "outputs": [
        {
          "output_type": "stream",
          "text": [
            "TensorFlow 1.x selected.\n",
            "Mounted at /content/drive\n"
          ],
          "name": "stdout"
        }
      ]
    },
    {
      "cell_type": "code",
      "metadata": {
        "id": "MY5OCVlg3P28",
        "outputId": "e15ea659-712a-43f1-a0c5-a694f8b67c84",
        "colab": {
          "base_uri": "https://localhost:8080/",
          "height": 102
        }
      },
      "source": [
        "!git clone https://github.com/NVlabs/stylegan2.git"
      ],
      "execution_count": 2,
      "outputs": [
        {
          "output_type": "stream",
          "text": [
            "Cloning into 'stylegan2'...\n",
            "remote: Enumerating objects: 122, done.\u001b[K\n",
            "remote: Total 122 (delta 0), reused 0 (delta 0), pack-reused 122\u001b[K\n",
            "Receiving objects: 100% (122/122), 590.23 KiB | 1.10 MiB/s, done.\n",
            "Resolving deltas: 100% (55/55), done.\n"
          ],
          "name": "stdout"
        }
      ]
    },
    {
      "cell_type": "code",
      "metadata": {
        "id": "Tcdc-2q13553",
        "outputId": "4f98176a-5f7f-4833-8beb-834d5795551c",
        "colab": {
          "base_uri": "https://localhost:8080/",
          "height": 578
        }
      },
      "source": [
        "#runnnig from command line\n",
        "\n",
        "!python /content/stylegan2/run_generator.py generate-images \\\n",
        "    --network=gdrive:networks/stylegan2-ffhq-config-f.pkl \\\n",
        "  --seeds=6600-6625 --truncation-psi=0.5"
      ],
      "execution_count": 3,
      "outputs": [
        {
          "output_type": "stream",
          "text": [
            "Local submit - run_dir: results/00000-generate-images\n",
            "dnnlib: Running run_generator.generate_images() on localhost...\n",
            "Loading networks from \"gdrive:networks/stylegan2-ffhq-config-f.pkl\"...\n",
            "Downloading https://nvlabs-fi-cdn.nvidia.com/stylegan2/networks/stylegan2-ffhq-config-f.pkl ... done\n",
            "Setting up TensorFlow plugin \"fused_bias_act.cu\": Preprocessing... Compiling... Loading... Done.\n",
            "Setting up TensorFlow plugin \"upfirdn_2d.cu\": Preprocessing... Compiling... Loading... Done.\n",
            "Generating image for seed 6600 (0/26) ...\n",
            "Generating image for seed 6601 (1/26) ...\n",
            "Generating image for seed 6602 (2/26) ...\n",
            "Generating image for seed 6603 (3/26) ...\n",
            "Generating image for seed 6604 (4/26) ...\n",
            "Generating image for seed 6605 (5/26) ...\n",
            "Generating image for seed 6606 (6/26) ...\n",
            "Generating image for seed 6607 (7/26) ...\n",
            "Generating image for seed 6608 (8/26) ...\n",
            "Generating image for seed 6609 (9/26) ...\n",
            "Generating image for seed 6610 (10/26) ...\n",
            "Generating image for seed 6611 (11/26) ...\n",
            "Generating image for seed 6612 (12/26) ...\n",
            "Generating image for seed 6613 (13/26) ...\n",
            "Generating image for seed 6614 (14/26) ...\n",
            "Generating image for seed 6615 (15/26) ...\n",
            "Generating image for seed 6616 (16/26) ...\n",
            "Generating image for seed 6617 (17/26) ...\n",
            "Generating image for seed 6618 (18/26) ...\n",
            "Generating image for seed 6619 (19/26) ...\n",
            "Generating image for seed 6620 (20/26) ...\n",
            "Generating image for seed 6621 (21/26) ...\n",
            "Generating image for seed 6622 (22/26) ...\n",
            "Generating image for seed 6623 (23/26) ...\n",
            "Generating image for seed 6624 (24/26) ...\n",
            "Generating image for seed 6625 (25/26) ...\n",
            "dnnlib: Finished run_generator.generate_images() in 1m 33s.\n"
          ],
          "name": "stdout"
        }
      ]
    },
    {
      "cell_type": "code",
      "metadata": {
        "id": "TWkZhtZE4Cwb"
      },
      "source": [
        "#now to code\n",
        "import sys\n",
        "sys.path.insert(0,'/content/stylegan2')\n",
        "\n",
        "\n",
        "import dnnlib"
      ],
      "execution_count": 4,
      "outputs": []
    },
    {
      "cell_type": "code",
      "metadata": {
        "id": "zud28A9354a2"
      },
      "source": [
        "import argparse\n",
        "import numpy as np\n",
        "import PIL.Image\n",
        "import dnnlib.tflib as tflib\n",
        "import re\n",
        "import sys\n",
        "\n",
        "import pretrained_networks\n",
        "\n",
        "\n",
        "def expand_seed(seeds,vector_size):\n",
        "  result =[]\n",
        "\n",
        "  for seed in seeds:  # takes a seed and expands it into 512 \n",
        "    rnd = np.random.RandomState(seed)\n",
        "    result.append(rnd.randn(1,vector_size))\n",
        "  return result\n",
        "\n",
        "def generate_images(Gs, seeds, truncation_psi):  # from nvidia site Gs  network truncation_psi trick used by stylegan2\n",
        "  noise_vars = [var for name, var in Gs.components.synthesis.vars.items() if name.startswith('noise')]  #to add noise \n",
        "\n",
        "\n",
        "  Gs_kwargs = dnnlib.EasyDict()\n",
        "  Gs_kwargs.output_transform= dict(func= tflib.convert_images_to_uint8,nchw_to_nhwc= True)\n",
        "  Gs_kwargs.randomize_noise = False\n",
        "  if truncation_psi is not None:\n",
        "    Gs_kwargs.truncation_psi = truncation_psi\n",
        "\n",
        "  for seed_idx, seed in enumerate(seeds):\n",
        "    print('Generating images for seed %d/%d   ...'%(seed_idx, len(seeds)))\n",
        "    rnd = np.random.RandomState()\n",
        "    tflib.set_vars({var:rnd.randn(*var.shape.as_list()) for var in noise_vars})\n",
        "    images= Gs.run(seed,None, **Gs_kwargs)\n",
        "    path = f'/content/drive/My Drive/projects/stylegan2/images{seed_idx}.png'\n",
        "    PIL.Image.fromarray(images[0],'RGB').save(path)\n",
        "\n",
        "\n",
        "\n",
        "    "
      ],
      "execution_count": 40,
      "outputs": []
    },
    {
      "cell_type": "code",
      "metadata": {
        "id": "9tsTJMsGjaSq",
        "outputId": "b54ef026-fdc2-4d16-c15b-04dcf533825a",
        "colab": {
          "base_uri": "https://localhost:8080/",
          "height": 544
        }
      },
      "source": [
        "sc= dnnlib.SubmitConfig()  #loading pre trained network \n",
        "sc_num_gpus =1\n",
        "sc.submit_target= dnnlib.SubmitTarget.LOCAL\n",
        "sc.local.do_not_copy_source_files= True\n",
        "sc.run_dir_root= '/content/drive/My Drive/projects/stylegan2'\n",
        "sc.run_desc= 'generate-images'\n",
        "network_pkl ='gdrive:networks/stylegan2-ffhq-config-f.pkl'\n",
        "\n",
        "print('loading network')\n",
        "_G,_D,Gs = pretrained_networks.load_networks(network_pkl)\n",
        "vector_size= Gs.input_shape[1:][0]\n",
        "seeds= expand_seed(range(7000,7030), vector_size)\n",
        "generate_images(Gs,seeds,truncation_psi=0.5)\n"
      ],
      "execution_count": 41,
      "outputs": [
        {
          "output_type": "stream",
          "text": [
            "loading network\n",
            "Generating images for seed 0/30   ...\n",
            "Generating images for seed 1/30   ...\n",
            "Generating images for seed 2/30   ...\n",
            "Generating images for seed 3/30   ...\n",
            "Generating images for seed 4/30   ...\n",
            "Generating images for seed 5/30   ...\n",
            "Generating images for seed 6/30   ...\n",
            "Generating images for seed 7/30   ...\n",
            "Generating images for seed 8/30   ...\n",
            "Generating images for seed 9/30   ...\n",
            "Generating images for seed 10/30   ...\n",
            "Generating images for seed 11/30   ...\n",
            "Generating images for seed 12/30   ...\n",
            "Generating images for seed 13/30   ...\n",
            "Generating images for seed 14/30   ...\n",
            "Generating images for seed 15/30   ...\n",
            "Generating images for seed 16/30   ...\n",
            "Generating images for seed 17/30   ...\n",
            "Generating images for seed 18/30   ...\n",
            "Generating images for seed 19/30   ...\n",
            "Generating images for seed 20/30   ...\n",
            "Generating images for seed 21/30   ...\n",
            "Generating images for seed 22/30   ...\n",
            "Generating images for seed 23/30   ...\n",
            "Generating images for seed 24/30   ...\n",
            "Generating images for seed 25/30   ...\n",
            "Generating images for seed 26/30   ...\n",
            "Generating images for seed 27/30   ...\n",
            "Generating images for seed 28/30   ...\n",
            "Generating images for seed 29/30   ...\n"
          ],
          "name": "stdout"
        }
      ]
    },
    {
      "cell_type": "code",
      "metadata": {
        "id": "sxndDGj6YHL2",
        "outputId": "2a7942aa-9964-4b62-d0e9-ed0415de3a10",
        "colab": {
          "base_uri": "https://localhost:8080/",
          "height": 51
        }
      },
      "source": [
        "\n",
        "sc = dnnlib.SubmitConfig()\n",
        "sc.num_gpus = 1\n",
        "sc.submit_target = dnnlib.SubmitTarget.LOCAL\n",
        "sc.local.do_not_copy_source_files = True\n",
        "sc.run_dir_root = \"/content/drive/My Drive/projects/stylegan2\"\n",
        "sc.run_desc = 'generate-images'\n",
        "network_pkl = 'gdrive:networks/stylegan2-ffhq-config-f.pkl'\n",
        "\n",
        "print('Loading networks from \"%s\"...' % network_pkl)\n",
        "_G, _D, Gs = pretrained_networks.load_networks(network_pkl)\n",
        "vector_size = Gs.input_shape[1:][0]\n",
        "\n",
        "seeds = expand_seed( [7000+1,7000+9], vector_size)\n",
        "#generate_images(Gs, seeds,truncation_psi=0.5)\n",
        "print(seeds[0].shape)"
      ],
      "execution_count": 43,
      "outputs": [
        {
          "output_type": "stream",
          "text": [
            "Loading networks from \"gdrive:networks/stylegan2-ffhq-config-f.pkl\"...\n",
            "(1, 512)\n"
          ],
          "name": "stdout"
        }
      ]
    },
    {
      "cell_type": "code",
      "metadata": {
        "id": "_5mzjN0JSepg",
        "outputId": "df6db644-0fec-46a0-ed0f-0237c14dc300",
        "colab": {
          "base_uri": "https://localhost:8080/",
          "height": 1000
        }
      },
      "source": [
        "steps = 300\n",
        "diff = seeds[1]-  seeds[0]\n",
        "step = diff/steps\n",
        "current= seeds[0].copy()\n",
        "\n",
        "seeds2 = []\n",
        "for i in range(steps):\n",
        "  seeds2.append(current)\n",
        "  current = current+step\n",
        "generate_images(Gs,seeds2,truncation_psi=0.5)"
      ],
      "execution_count": 46,
      "outputs": [
        {
          "output_type": "stream",
          "text": [
            "Generating images for seed 0/300   ...\n",
            "Generating images for seed 1/300   ...\n",
            "Generating images for seed 2/300   ...\n",
            "Generating images for seed 3/300   ...\n",
            "Generating images for seed 4/300   ...\n",
            "Generating images for seed 5/300   ...\n",
            "Generating images for seed 6/300   ...\n",
            "Generating images for seed 7/300   ...\n",
            "Generating images for seed 8/300   ...\n",
            "Generating images for seed 9/300   ...\n",
            "Generating images for seed 10/300   ...\n",
            "Generating images for seed 11/300   ...\n",
            "Generating images for seed 12/300   ...\n",
            "Generating images for seed 13/300   ...\n",
            "Generating images for seed 14/300   ...\n",
            "Generating images for seed 15/300   ...\n",
            "Generating images for seed 16/300   ...\n",
            "Generating images for seed 17/300   ...\n",
            "Generating images for seed 18/300   ...\n",
            "Generating images for seed 19/300   ...\n",
            "Generating images for seed 20/300   ...\n",
            "Generating images for seed 21/300   ...\n",
            "Generating images for seed 22/300   ...\n",
            "Generating images for seed 23/300   ...\n",
            "Generating images for seed 24/300   ...\n",
            "Generating images for seed 25/300   ...\n",
            "Generating images for seed 26/300   ...\n",
            "Generating images for seed 27/300   ...\n",
            "Generating images for seed 28/300   ...\n",
            "Generating images for seed 29/300   ...\n",
            "Generating images for seed 30/300   ...\n",
            "Generating images for seed 31/300   ...\n",
            "Generating images for seed 32/300   ...\n",
            "Generating images for seed 33/300   ...\n",
            "Generating images for seed 34/300   ...\n",
            "Generating images for seed 35/300   ...\n",
            "Generating images for seed 36/300   ...\n",
            "Generating images for seed 37/300   ...\n",
            "Generating images for seed 38/300   ...\n",
            "Generating images for seed 39/300   ...\n",
            "Generating images for seed 40/300   ...\n",
            "Generating images for seed 41/300   ...\n",
            "Generating images for seed 42/300   ...\n",
            "Generating images for seed 43/300   ...\n",
            "Generating images for seed 44/300   ...\n",
            "Generating images for seed 45/300   ...\n",
            "Generating images for seed 46/300   ...\n",
            "Generating images for seed 47/300   ...\n",
            "Generating images for seed 48/300   ...\n",
            "Generating images for seed 49/300   ...\n",
            "Generating images for seed 50/300   ...\n",
            "Generating images for seed 51/300   ...\n",
            "Generating images for seed 52/300   ...\n",
            "Generating images for seed 53/300   ...\n",
            "Generating images for seed 54/300   ...\n",
            "Generating images for seed 55/300   ...\n",
            "Generating images for seed 56/300   ...\n",
            "Generating images for seed 57/300   ...\n",
            "Generating images for seed 58/300   ...\n",
            "Generating images for seed 59/300   ...\n",
            "Generating images for seed 60/300   ...\n",
            "Generating images for seed 61/300   ...\n",
            "Generating images for seed 62/300   ...\n",
            "Generating images for seed 63/300   ...\n",
            "Generating images for seed 64/300   ...\n",
            "Generating images for seed 65/300   ...\n",
            "Generating images for seed 66/300   ...\n",
            "Generating images for seed 67/300   ...\n",
            "Generating images for seed 68/300   ...\n",
            "Generating images for seed 69/300   ...\n",
            "Generating images for seed 70/300   ...\n",
            "Generating images for seed 71/300   ...\n",
            "Generating images for seed 72/300   ...\n",
            "Generating images for seed 73/300   ...\n",
            "Generating images for seed 74/300   ...\n",
            "Generating images for seed 75/300   ...\n",
            "Generating images for seed 76/300   ...\n",
            "Generating images for seed 77/300   ...\n",
            "Generating images for seed 78/300   ...\n",
            "Generating images for seed 79/300   ...\n",
            "Generating images for seed 80/300   ...\n",
            "Generating images for seed 81/300   ...\n",
            "Generating images for seed 82/300   ...\n",
            "Generating images for seed 83/300   ...\n",
            "Generating images for seed 84/300   ...\n",
            "Generating images for seed 85/300   ...\n",
            "Generating images for seed 86/300   ...\n",
            "Generating images for seed 87/300   ...\n",
            "Generating images for seed 88/300   ...\n",
            "Generating images for seed 89/300   ...\n",
            "Generating images for seed 90/300   ...\n",
            "Generating images for seed 91/300   ...\n",
            "Generating images for seed 92/300   ...\n",
            "Generating images for seed 93/300   ...\n",
            "Generating images for seed 94/300   ...\n",
            "Generating images for seed 95/300   ...\n",
            "Generating images for seed 96/300   ...\n",
            "Generating images for seed 97/300   ...\n",
            "Generating images for seed 98/300   ...\n",
            "Generating images for seed 99/300   ...\n",
            "Generating images for seed 100/300   ...\n",
            "Generating images for seed 101/300   ...\n",
            "Generating images for seed 102/300   ...\n",
            "Generating images for seed 103/300   ...\n",
            "Generating images for seed 104/300   ...\n",
            "Generating images for seed 105/300   ...\n",
            "Generating images for seed 106/300   ...\n",
            "Generating images for seed 107/300   ...\n",
            "Generating images for seed 108/300   ...\n",
            "Generating images for seed 109/300   ...\n",
            "Generating images for seed 110/300   ...\n",
            "Generating images for seed 111/300   ...\n",
            "Generating images for seed 112/300   ...\n",
            "Generating images for seed 113/300   ...\n",
            "Generating images for seed 114/300   ...\n",
            "Generating images for seed 115/300   ...\n",
            "Generating images for seed 116/300   ...\n",
            "Generating images for seed 117/300   ...\n",
            "Generating images for seed 118/300   ...\n",
            "Generating images for seed 119/300   ...\n",
            "Generating images for seed 120/300   ...\n",
            "Generating images for seed 121/300   ...\n",
            "Generating images for seed 122/300   ...\n",
            "Generating images for seed 123/300   ...\n",
            "Generating images for seed 124/300   ...\n",
            "Generating images for seed 125/300   ...\n",
            "Generating images for seed 126/300   ...\n",
            "Generating images for seed 127/300   ...\n",
            "Generating images for seed 128/300   ...\n",
            "Generating images for seed 129/300   ...\n",
            "Generating images for seed 130/300   ...\n",
            "Generating images for seed 131/300   ...\n",
            "Generating images for seed 132/300   ...\n",
            "Generating images for seed 133/300   ...\n",
            "Generating images for seed 134/300   ...\n",
            "Generating images for seed 135/300   ...\n",
            "Generating images for seed 136/300   ...\n",
            "Generating images for seed 137/300   ...\n",
            "Generating images for seed 138/300   ...\n",
            "Generating images for seed 139/300   ...\n",
            "Generating images for seed 140/300   ...\n",
            "Generating images for seed 141/300   ...\n",
            "Generating images for seed 142/300   ...\n",
            "Generating images for seed 143/300   ...\n",
            "Generating images for seed 144/300   ...\n",
            "Generating images for seed 145/300   ...\n",
            "Generating images for seed 146/300   ...\n",
            "Generating images for seed 147/300   ...\n",
            "Generating images for seed 148/300   ...\n",
            "Generating images for seed 149/300   ...\n",
            "Generating images for seed 150/300   ...\n",
            "Generating images for seed 151/300   ...\n",
            "Generating images for seed 152/300   ...\n",
            "Generating images for seed 153/300   ...\n",
            "Generating images for seed 154/300   ...\n",
            "Generating images for seed 155/300   ...\n",
            "Generating images for seed 156/300   ...\n",
            "Generating images for seed 157/300   ...\n",
            "Generating images for seed 158/300   ...\n",
            "Generating images for seed 159/300   ...\n",
            "Generating images for seed 160/300   ...\n",
            "Generating images for seed 161/300   ...\n",
            "Generating images for seed 162/300   ...\n",
            "Generating images for seed 163/300   ...\n",
            "Generating images for seed 164/300   ...\n",
            "Generating images for seed 165/300   ...\n",
            "Generating images for seed 166/300   ...\n",
            "Generating images for seed 167/300   ...\n",
            "Generating images for seed 168/300   ...\n",
            "Generating images for seed 169/300   ...\n",
            "Generating images for seed 170/300   ...\n",
            "Generating images for seed 171/300   ...\n",
            "Generating images for seed 172/300   ...\n",
            "Generating images for seed 173/300   ...\n",
            "Generating images for seed 174/300   ...\n",
            "Generating images for seed 175/300   ...\n",
            "Generating images for seed 176/300   ...\n",
            "Generating images for seed 177/300   ...\n",
            "Generating images for seed 178/300   ...\n",
            "Generating images for seed 179/300   ...\n",
            "Generating images for seed 180/300   ...\n",
            "Generating images for seed 181/300   ...\n",
            "Generating images for seed 182/300   ...\n",
            "Generating images for seed 183/300   ...\n",
            "Generating images for seed 184/300   ...\n",
            "Generating images for seed 185/300   ...\n",
            "Generating images for seed 186/300   ...\n",
            "Generating images for seed 187/300   ...\n",
            "Generating images for seed 188/300   ...\n",
            "Generating images for seed 189/300   ...\n",
            "Generating images for seed 190/300   ...\n",
            "Generating images for seed 191/300   ...\n",
            "Generating images for seed 192/300   ...\n",
            "Generating images for seed 193/300   ...\n",
            "Generating images for seed 194/300   ...\n",
            "Generating images for seed 195/300   ...\n",
            "Generating images for seed 196/300   ...\n",
            "Generating images for seed 197/300   ...\n",
            "Generating images for seed 198/300   ...\n",
            "Generating images for seed 199/300   ...\n",
            "Generating images for seed 200/300   ...\n",
            "Generating images for seed 201/300   ...\n",
            "Generating images for seed 202/300   ...\n",
            "Generating images for seed 203/300   ...\n",
            "Generating images for seed 204/300   ...\n",
            "Generating images for seed 205/300   ...\n",
            "Generating images for seed 206/300   ...\n",
            "Generating images for seed 207/300   ...\n",
            "Generating images for seed 208/300   ...\n",
            "Generating images for seed 209/300   ...\n",
            "Generating images for seed 210/300   ...\n",
            "Generating images for seed 211/300   ...\n",
            "Generating images for seed 212/300   ...\n",
            "Generating images for seed 213/300   ...\n",
            "Generating images for seed 214/300   ...\n",
            "Generating images for seed 215/300   ...\n",
            "Generating images for seed 216/300   ...\n",
            "Generating images for seed 217/300   ...\n",
            "Generating images for seed 218/300   ...\n",
            "Generating images for seed 219/300   ...\n",
            "Generating images for seed 220/300   ...\n",
            "Generating images for seed 221/300   ...\n",
            "Generating images for seed 222/300   ...\n",
            "Generating images for seed 223/300   ...\n",
            "Generating images for seed 224/300   ...\n",
            "Generating images for seed 225/300   ...\n",
            "Generating images for seed 226/300   ...\n",
            "Generating images for seed 227/300   ...\n",
            "Generating images for seed 228/300   ...\n",
            "Generating images for seed 229/300   ...\n",
            "Generating images for seed 230/300   ...\n",
            "Generating images for seed 231/300   ...\n",
            "Generating images for seed 232/300   ...\n",
            "Generating images for seed 233/300   ...\n",
            "Generating images for seed 234/300   ...\n",
            "Generating images for seed 235/300   ...\n",
            "Generating images for seed 236/300   ...\n",
            "Generating images for seed 237/300   ...\n",
            "Generating images for seed 238/300   ...\n",
            "Generating images for seed 239/300   ...\n",
            "Generating images for seed 240/300   ...\n",
            "Generating images for seed 241/300   ...\n",
            "Generating images for seed 242/300   ...\n",
            "Generating images for seed 243/300   ...\n",
            "Generating images for seed 244/300   ...\n",
            "Generating images for seed 245/300   ...\n",
            "Generating images for seed 246/300   ...\n",
            "Generating images for seed 247/300   ...\n",
            "Generating images for seed 248/300   ...\n",
            "Generating images for seed 249/300   ...\n",
            "Generating images for seed 250/300   ...\n",
            "Generating images for seed 251/300   ...\n",
            "Generating images for seed 252/300   ...\n",
            "Generating images for seed 253/300   ...\n",
            "Generating images for seed 254/300   ...\n",
            "Generating images for seed 255/300   ...\n",
            "Generating images for seed 256/300   ...\n",
            "Generating images for seed 257/300   ...\n",
            "Generating images for seed 258/300   ...\n",
            "Generating images for seed 259/300   ...\n",
            "Generating images for seed 260/300   ...\n",
            "Generating images for seed 261/300   ...\n",
            "Generating images for seed 262/300   ...\n",
            "Generating images for seed 263/300   ...\n",
            "Generating images for seed 264/300   ...\n",
            "Generating images for seed 265/300   ...\n",
            "Generating images for seed 266/300   ...\n",
            "Generating images for seed 267/300   ...\n",
            "Generating images for seed 268/300   ...\n",
            "Generating images for seed 269/300   ...\n",
            "Generating images for seed 270/300   ...\n",
            "Generating images for seed 271/300   ...\n",
            "Generating images for seed 272/300   ...\n",
            "Generating images for seed 273/300   ...\n",
            "Generating images for seed 274/300   ...\n",
            "Generating images for seed 275/300   ...\n",
            "Generating images for seed 276/300   ...\n",
            "Generating images for seed 277/300   ...\n",
            "Generating images for seed 278/300   ...\n",
            "Generating images for seed 279/300   ...\n",
            "Generating images for seed 280/300   ...\n",
            "Generating images for seed 281/300   ...\n",
            "Generating images for seed 282/300   ...\n",
            "Generating images for seed 283/300   ...\n",
            "Generating images for seed 284/300   ...\n",
            "Generating images for seed 285/300   ...\n",
            "Generating images for seed 286/300   ...\n",
            "Generating images for seed 287/300   ...\n",
            "Generating images for seed 288/300   ...\n",
            "Generating images for seed 289/300   ...\n",
            "Generating images for seed 290/300   ...\n",
            "Generating images for seed 291/300   ...\n",
            "Generating images for seed 292/300   ...\n",
            "Generating images for seed 293/300   ...\n",
            "Generating images for seed 294/300   ...\n",
            "Generating images for seed 295/300   ...\n",
            "Generating images for seed 296/300   ...\n",
            "Generating images for seed 297/300   ...\n",
            "Generating images for seed 298/300   ...\n",
            "Generating images for seed 299/300   ...\n"
          ],
          "name": "stdout"
        }
      ]
    },
    {
      "cell_type": "code",
      "metadata": {
        "id": "Z4HQppamYZnW",
        "outputId": "878f9419-28ec-462e-a102-ce2db72828b9",
        "colab": {
          "base_uri": "https://localhost:8080/",
          "height": 34
        }
      },
      "source": [
        "!ffmpeg-r 30 -i image%d.png -vcodec mpeg4 -y movie.mp4"
      ],
      "execution_count": 52,
      "outputs": [
        {
          "output_type": "stream",
          "text": [
            "/bin/bash: ffmpeg-r: command not found\n"
          ],
          "name": "stdout"
        }
      ]
    },
    {
      "cell_type": "code",
      "metadata": {
        "id": "j8w7uqvgYv5d",
        "outputId": "2c9d7801-5cd6-4882-e79b-f38c580087eb",
        "colab": {
          "base_uri": "https://localhost:8080/",
          "height": 190
        }
      },
      "source": [
        "pip install ffmpeg"
      ],
      "execution_count": 49,
      "outputs": [
        {
          "output_type": "stream",
          "text": [
            "Collecting ffmpeg\n",
            "  Downloading https://files.pythonhosted.org/packages/f0/cc/3b7408b8ecf7c1d20ad480c3eaed7619857bf1054b690226e906fdf14258/ffmpeg-1.4.tar.gz\n",
            "Building wheels for collected packages: ffmpeg\n",
            "  Building wheel for ffmpeg (setup.py) ... \u001b[?25l\u001b[?25hdone\n",
            "  Created wheel for ffmpeg: filename=ffmpeg-1.4-cp36-none-any.whl size=6083 sha256=6fc68ade34e1986ee5d8217e07d8b842dbcc84562ae24747d1783398c79e3953\n",
            "  Stored in directory: /root/.cache/pip/wheels/b6/68/c3/a05a35f647ba871e5572b9bbfc0b95fd1c6637a2219f959e7a\n",
            "Successfully built ffmpeg\n",
            "Installing collected packages: ffmpeg\n",
            "Successfully installed ffmpeg-1.4\n"
          ],
          "name": "stdout"
        }
      ]
    },
    {
      "cell_type": "code",
      "metadata": {
        "id": "xkYkFDC8bUvh",
        "outputId": "046ee675-52c7-41a8-d4ef-fd801f816acd",
        "colab": {
          "base_uri": "https://localhost:8080/",
          "height": 163
        }
      },
      "source": [
        "image"
      ],
      "execution_count": 53,
      "outputs": [
        {
          "output_type": "error",
          "ename": "NameError",
          "evalue": "ignored",
          "traceback": [
            "\u001b[0;31m---------------------------------------------------------------------------\u001b[0m",
            "\u001b[0;31mNameError\u001b[0m                                 Traceback (most recent call last)",
            "\u001b[0;32m<ipython-input-53-28935580a9bb>\u001b[0m in \u001b[0;36m<module>\u001b[0;34m()\u001b[0m\n\u001b[0;32m----> 1\u001b[0;31m \u001b[0mimage\u001b[0m\u001b[0;34m\u001b[0m\u001b[0;34m\u001b[0m\u001b[0m\n\u001b[0m",
            "\u001b[0;31mNameError\u001b[0m: name 'image' is not defined"
          ]
        }
      ]
    },
    {
      "cell_type": "code",
      "metadata": {
        "id": "LADhoot2kzU3"
      },
      "source": [
        ""
      ],
      "execution_count": null,
      "outputs": []
    }
  ]
}